{
 "cells": [
  {
   "cell_type": "markdown",
   "id": "9725bc5d",
   "metadata": {},
   "source": [
    "# API Exemplo"
   ]
  },
  {
   "cell_type": "markdown",
   "id": "6f977dc5",
   "metadata": {},
   "source": [
    "### Queremos pegar a cotação do dólar de forma automática e atualizada, como fazemos?"
   ]
  },
  {
   "cell_type": "markdown",
   "id": "812e1239",
   "metadata": {},
   "source": [
    "Usamos o awesome api: https://docs.awesomeapi.com.br/"
   ]
  },
  {
   "cell_type": "markdown",
   "id": "488be8c4",
   "metadata": {},
   "source": [
    "API do Twillio comentada: https://www.twilio.com/docs/libraries/python"
   ]
  },
  {
   "cell_type": "code",
   "execution_count": null,
   "id": "1485907d",
   "metadata": {},
   "outputs": [],
   "source": [
    "import requests\n",
    "import json\n"
   ]
  },
  {
   "cell_type": "code",
   "execution_count": null,
   "id": "b0fbdc0d",
   "metadata": {},
   "outputs": [],
   "source": [
    "quotation = requests.get('https://economia.awesomeapi.com.br/last/USD-BRL,EUR-BRL,BTC-BRL')\n",
    "quotation = quotation.json()"
   ]
  },
  {
   "cell_type": "code",
   "execution_count": null,
   "id": "73462583",
   "metadata": {},
   "outputs": [],
   "source": [
    "quotation_dolar = quotation['USDBRL']['bid']"
   ]
  }
 ],
 "metadata": {
  "kernelspec": {
   "display_name": "Python 3",
   "language": "python",
   "name": "python3"
  },
  "language_info": {
   "codemirror_mode": {
    "name": "ipython",
    "version": 3
   },
   "file_extension": ".py",
   "mimetype": "text/x-python",
   "name": "python",
   "nbconvert_exporter": "python",
   "pygments_lexer": "ipython3",
   "version": "3.8.8"
  }
 },
 "nbformat": 4,
 "nbformat_minor": 5
}
